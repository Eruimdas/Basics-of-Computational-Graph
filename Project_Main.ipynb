{
 "cells": [
  {
   "cell_type": "markdown",
   "metadata": {},
   "source": [
    "# CMPE 232 Project : Mimicking TensorFlow\n",
    "\n",
    "## Group Name: Placeholder\n",
    "\n",
    "### Members:\n",
    "#### - Hasan Kemik 116207076\n",
    "#### - Ali Çağan Keskin 116200079"
   ]
  },
  {
   "cell_type": "markdown",
   "metadata": {},
   "source": [
    "## Index\n",
    "- [Needed Libraries](#Needed-Libraries)\n",
    "- [Classes](#Classes)\n",
    "- [Functions](#Functions)\n",
    " + [Understanding Math Operation](#Understanding-Math-Operation)\n",
    " + [Forward Propogation Function](#Forward-Propogation-Function)\n",
    " + [Backward Propogation Function](#Backward-Propogation-Function)\n",
    "- [User Input](#String)\n",
    "- [Graphical Representation of the String](#Graphical-Representation-of-the-Equation)\n",
    "- [Graphical Representation of the Reversed String](#Graphical-Representation-of-the-Reverse-Graph)\n",
    "- [Forward Propogation](#Forward-Propogation)\n",
    "- [Backward Propogation](#Backward-Propogation)"
   ]
  },
  {
   "cell_type": "markdown",
   "metadata": {},
   "source": [
    "# Needed libraries"
   ]
  },
  {
   "cell_type": "code",
   "execution_count": 1,
   "metadata": {},
   "outputs": [],
   "source": [
    "import numpy as np\n",
    "from functools import reduce #python 3\n",
    "import operator\n",
    "import networkx as nx\n",
    "import matplotlib.pyplot as plt\n",
    "%matplotlib inline"
   ]
  },
  {
   "cell_type": "markdown",
   "metadata": {},
   "source": [
    "# Classes"
   ]
  },
  {
   "cell_type": "code",
   "execution_count": 2,
   "metadata": {},
   "outputs": [],
   "source": [
    "# class for addition\n",
    "class add():\n",
    "    def __init__(self,inputs):\n",
    "        self.inputs = inputs\n",
    "        \n",
    "    def compute(self):\n",
    "        return sum(self.inputs)"
   ]
  },
  {
   "cell_type": "code",
   "execution_count": 3,
   "metadata": {},
   "outputs": [],
   "source": [
    "# class for substraction\n",
    "class subtract():\n",
    "    def __init__(self,inputs):\n",
    "        self.inputs = inputs\n",
    "        \n",
    "    def compute(self):\n",
    "        return (self.inputs[1] - self.inputs[0])"
   ]
  },
  {
   "cell_type": "code",
   "execution_count": 4,
   "metadata": {},
   "outputs": [],
   "source": [
    "# class for division\n",
    "class division():\n",
    "    def __init__(self,inputs):\n",
    "        self.inputs = inputs\n",
    "        \n",
    "    def compute(self):\n",
    "        return (self.inputs[0] / self.inputs[1])"
   ]
  },
  {
   "cell_type": "code",
   "execution_count": 5,
   "metadata": {},
   "outputs": [],
   "source": [
    "# class for matrix multiplication\n",
    "class matmul():\n",
    "    def __init__(self,inputs):\n",
    "        self.inputs = inputs\n",
    "        \n",
    "    def compute(self):\n",
    "        if len(self.inputs[0]) > 1:\n",
    "            x = self.inputs[0]\n",
    "            for y in self.inputs[1:]:\n",
    "                x = np.dot(x,y)\n",
    "        return x"
   ]
  },
  {
   "cell_type": "code",
   "execution_count": 6,
   "metadata": {},
   "outputs": [],
   "source": [
    "# class for activation function\n",
    "class sigmoid():\n",
    "    def __init__(self,inputs):\n",
    "        self.inputs = inputs\n",
    "        \n",
    "    def compute(self):\n",
    "        return 1 / (1 + np.exp(-self.inputs[0]))"
   ]
  },
  {
   "cell_type": "code",
   "execution_count": 7,
   "metadata": {},
   "outputs": [],
   "source": [
    "# class for multiplication\n",
    "# try except block is used if the one of the inputs are a number and other one is a matrix.\n",
    "class multiply():\n",
    "    def __init__(self, inputs):\n",
    "        self.inputs = inputs\n",
    "        \n",
    "    def compute(self):\n",
    "        try:\n",
    "            x = reduce(lambda x, y: x * y, self.inputs, 1)\n",
    "        except:\n",
    "            x = self.inputs[0]*self.inputs[1]\n",
    "        return x"
   ]
  },
  {
   "cell_type": "code",
   "execution_count": 8,
   "metadata": {},
   "outputs": [],
   "source": [
    "# class that holds varible\n",
    "class Variable(): \n",
    "    def __init__(self, initial_value):\n",
    "        self.value = initial_value\n",
    "    \n",
    "    def compute(self):\n",
    "        return self.value"
   ]
  },
  {
   "cell_type": "code",
   "execution_count": 9,
   "metadata": {},
   "outputs": [],
   "source": [
    "# class for placeholder\n",
    "class Placeholder(): \n",
    "    def __init__(self,value = None):\n",
    "        self.value = value\n",
    "        \n",
    "    def change_value(self,value):\n",
    "        self.value = value\n",
    "    \n",
    "    def compute(self):\n",
    "        return self.value"
   ]
  },
  {
   "cell_type": "code",
   "execution_count": 10,
   "metadata": {},
   "outputs": [],
   "source": [
    "# class for Nodes\n",
    "# input attribute is the list of nodes which comes into the node\n",
    "# output attribute is the list of nodes which goes from the node\n",
    "# n_type attribute is the Type of Node. With this attribute, we can \n",
    "# classify the Node's operation.\n",
    "\n",
    "# The node type can be Add, MatMul, Multiply, Sigmoid, Subtract,\n",
    "# Division, Variable, Placeholder.\n",
    "\n",
    "# This way, we can choose which class that we defined above, will be used for operation.\n",
    "class node():   \n",
    "    def __init__(self,inputs,outputs,n_type):\n",
    "        \n",
    "        self.inputs = inputs\n",
    "        self.outputs = outputs\n",
    "        self.n_type = n_type\n",
    "        \n",
    "        if len(n_type) > 1 and n_type[0] == \"Operation\":\n",
    "            \n",
    "            if n_type[1] == \"Add\":\n",
    "                self.value = add(inputs)\n",
    "            elif n_type[1] == \"MatMul\":\n",
    "                self.value = matmul(inputs)\n",
    "            elif n_type[1] == \"Multiply\":\n",
    "                self.value = multiply(inputs)\n",
    "            elif n_type[1] == \"Sigmoid\":\n",
    "                self.value = sigmoid(inputs)\n",
    "            elif n_type[1] == \"Subtract\":\n",
    "                self.value = subtract(inputs)\n",
    "            elif n_type[1] == \"Division\":\n",
    "                self.value = division(inputs)\n",
    "            else:\n",
    "                self.value = null\n",
    "                print(\"Please check the operation parameter you've given.\")\n",
    "        \n",
    "        elif n_type == [\"Variable\"]:\n",
    "            self.value = Variable(inputs)\n",
    "            \n",
    "        elif n_type == [\"Placeholder\"]:\n",
    "            self.value = Placeholder()\n",
    "            \n",
    "    \n",
    "    def compute(self):\n",
    "        return self.value.compute()\n",
    "    \n",
    "    def change_value(self,val):\n",
    "        self.value.change_value(val)\n",
    "    \n",
    "    def change_inp(self,inp):\n",
    "        self.value.inputs = inp\n",
    "        \n",
    "    def return_val(self):\n",
    "        return self.value.value\n",
    "    \n",
    "    def return_type(self):\n",
    "        return self.n_type"
   ]
  },
  {
   "cell_type": "code",
   "execution_count": 11,
   "metadata": {},
   "outputs": [],
   "source": [
    "# the class which visualises the graph.\n",
    "class draw_graph():\n",
    "    def __init__(self,node_list,edge_list,color_map,label_dict):\n",
    "        self.G = nx.DiGraph()\n",
    "        self.color_map = color_map\n",
    "        self.G.add_nodes_from(node_list)\n",
    "        self.G.add_edges_from(edge_list)\n",
    "        self.G = nx.relabel_nodes(self.G,label_dict)\n",
    "    \n",
    "    def draw(self):\n",
    "        nx.draw_spring(self.G,node_color = self.color_map ,node_size = 500, with_labels = True)"
   ]
  },
  {
   "cell_type": "code",
   "execution_count": 12,
   "metadata": {},
   "outputs": [],
   "source": [
    "# the class which visualises the reversed graph.\n",
    "class draw_reverse_graph():\n",
    "    def __init__(self,node_list,edge_list,color_map,label_dict):\n",
    "        self.color_map = color_map\n",
    "        self.G = nx.DiGraph()\n",
    "        edge_list = reversedGraph().reverse(edge_list)\n",
    "        self.G.add_nodes_from(node_list)\n",
    "        self.G.add_edges_from(edge_list)\n",
    "        self.G = nx.relabel_nodes(self.G,label_dict)\n",
    "        \n",
    "    def draw(self):\n",
    "        nx.draw_circular(self.G,node_color = self.color_map ,node_size = 500, with_labels = True)\n"
   ]
  },
  {
   "cell_type": "code",
   "execution_count": 13,
   "metadata": {},
   "outputs": [],
   "source": [
    "# the class which reverses the graph\n",
    "class reversedGraph(): \n",
    "    @staticmethod\n",
    "    def reverse(edge_list):\n",
    "        reversed_elist = [(t,s) for s, t in  edge_list]\n",
    "        return reversed_elist"
   ]
  },
  {
   "cell_type": "code",
   "execution_count": 14,
   "metadata": {},
   "outputs": [],
   "source": [
    "# the class for Depth First Search\n",
    "class DirectedDFS():\n",
    "    def __init__(self, G, node_list):\n",
    "        self.G = G\n",
    "        self.visited = {node_name: False for node_name in node_list}\n",
    "        self.traversal = []\n",
    "        \n",
    "    def dfs(self, sname):\n",
    "        self.visited[sname] = True\n",
    "        self.traversal.append(sname)\n",
    "        for neighbor in sname.inputs:\n",
    "            try:\n",
    "                if (not self.visited[neighbor]):\n",
    "                    self.dfs(neighbor)\n",
    "            except:\n",
    "                continue\n",
    "    def return_traversal(self):\n",
    "        x = self.traversal\n",
    "        return x"
   ]
  },
  {
   "cell_type": "markdown",
   "metadata": {},
   "source": [
    "# Functions"
   ]
  },
  {
   "cell_type": "markdown",
   "metadata": {},
   "source": [
    "### Understanding Math Operation"
   ]
  },
  {
   "cell_type": "code",
   "execution_count": 15,
   "metadata": {},
   "outputs": [],
   "source": [
    "# since that the equation will be given as a String,\n",
    "# this is the function for understand the characters \n",
    "# we will be using djikstra's two stack algorithm to inspect the equation.\n",
    "# First, we created some empty lists and read the string one time to create variable and placeholder nodes,\n",
    "# after to create the operation nodes, using djikstra's two stack algorithm, we read the string once again.\n",
    "\n",
    "\n",
    "def math_operands_split(mat_op):\n",
    "    operators = [\"+\",\"-\",\"/\",\"*\",\":\",\"|\"]\n",
    "    op_stack = []\n",
    "    numb_stack = []\n",
    "    numb_stack_cont = []\n",
    "    op_stack_cont = []\n",
    "    placeholder_nodes = []\n",
    "    variable_nodes = []\n",
    "    variable_dict = {}\n",
    "    label_dict = {}\n",
    "    operation_nodes = []\n",
    "    placeholder_nodes2 = []\n",
    "    variable_nodes2 = []\n",
    "    operation_nodes2 = []\n",
    "    edge_list = []\n",
    "    color_map = []\n",
    "    node_list = []\n",
    "    mat_op = mat_op.split()\n",
    "    \n",
    "    if len(mat_op) == 1 and type(mat_op[0]) == str:\n",
    "        mat_op = list(mat_op[0])\n",
    "        for char in mat_op:\n",
    "            if char in operators:\n",
    "                op_stack_cont.append(char)\n",
    "            elif char not in operators and char != '(' and char != ')':\n",
    "                numb_stack.append(char)\n",
    "                numb_stack_cont.append(char)\n",
    "        placeholder_nodes.append([node([],[],[\"Placeholder\"]) for x in range (len(numb_stack)+1)])\n",
    "        variable_nodes.append([node([x],[],[\"Variable\"]) for x in numb_stack])\n",
    "        \n",
    "        numb_stack = []\n",
    "        op_stack = []\n",
    "        i = 0\n",
    "        for char in mat_op:\n",
    "            if char == ')' and len(op_stack) > 0:\n",
    "                operation = op_stack.pop()\n",
    "                val1 = numb_stack.pop()\n",
    "                val2 = numb_stack.pop()\n",
    "                if operation is '+':\n",
    "                    x = (node([val1,val2],[],[\"Operation\",\"Add\"]))\n",
    "                    operation_nodes.append(x)\n",
    "                    label_dict[x] = (\"+\"+ \"/\" +str(i))\n",
    "                    i = i + 1\n",
    "                    numb_stack.append(x)\n",
    "                elif operation is '*':\n",
    "                    x = (node([val1,val2],[],[\"Operation\",\"Multiply\"]))\n",
    "                    operation_nodes.append(x)\n",
    "                    label_dict[x] = (\"*\"+ \"/\" +str(i))\n",
    "                    i = i + 1\n",
    "                    numb_stack.append(x)\n",
    "                elif operation is '-':\n",
    "                    x = (node([val1,val2],[],[\"Operation\",\"Subtract\"]))\n",
    "                    operation_nodes.append(x)\n",
    "                    label_dict[x] = (\"-\"+ \"/\" +str(i))\n",
    "                    i = i + 1\n",
    "                    numb_stack.append(x)\n",
    "                elif operation is '/' or operation is \":\":\n",
    "                    x = (node([val1,val2],[],[\"Operation\",\"Division\"]))\n",
    "                    operation_nodes.append(x)\n",
    "                    label_dict[x] = (\"/\"+ \"/\" +str(i))\n",
    "                    i = i + 1\n",
    "                    numb_stack.append(x)\n",
    "                elif operation is '|':\n",
    "                    x = (node([val1,val2],[],[\"Operation\",\"MatMul\"]))\n",
    "                    operation_nodes.append(x)\n",
    "                    label_dict[x] = (\"|\"+ \"/\" +str(i))\n",
    "                    i = i + 1\n",
    "                    numb_stack.append(x)\n",
    "            elif char in operators:\n",
    "                op_stack.append(char)\n",
    "            elif char not in operators and char != '(' and char != ')':\n",
    "                numb_stack.append(char)\n",
    "                    \n",
    "        while len(op_stack) > 0:\n",
    "            operation = op_stack.pop(0)\n",
    "            val1 = numb_stack.pop(0)\n",
    "            val2 = numb_stack.pop(0)\n",
    "            if operation is '+':\n",
    "                x = (node([val1,val2],[],[\"Operation\",\"Add\"]))\n",
    "                operation_nodes.append(x)\n",
    "                label_dict[x] = (\"+\"+ \"/\" +str(i))\n",
    "                i = i + 1\n",
    "                numb_stack.append(x)\n",
    "            elif operation is '*':\n",
    "                x = (node([val1,val2],[],[\"Operation\",\"Multiply\"]))\n",
    "                operation_nodes.append(x)\n",
    "                label_dict[x] = (\"*\"+ \"/\" +str(i))\n",
    "                i = i + 1\n",
    "                numb_stack.append(x)\n",
    "            elif operation is '-':\n",
    "                x = (node([val1,val2],[],[\"Operation\",\"Subtract\"]))\n",
    "                operation_nodes.append(x)\n",
    "                label_dict[x] = (\"-\"+ \"/\" +str(i))\n",
    "                i = i + 1\n",
    "                numb_stack.append(x)\n",
    "            elif operation is '/' or operation is \":\":\n",
    "                x = (node([val1,val2],[],[\"Operation\",\"Division\"]))\n",
    "                operation_nodes.append(x)\n",
    "                label_dict[x] = (\"/\"+ \"/\" +str(i))\n",
    "                i = i + 1\n",
    "                numb_stack.append(x)\n",
    "            elif operation is '|':\n",
    "                x = (node([val1,val2],[],[\"Operation\",\"MatMul\"]))\n",
    "                operation_nodes.append(x)\n",
    "                label_dict[x] = (\"*\"+ \"/\" +str(i))\n",
    "                i = i + 1\n",
    "                numb_stack.append(x)\n",
    "            \n",
    "# Creating nodes and initializing links between them is finished by reading the string twice.\n",
    "# In the for nodes below, node list and edge list creations is finished with along color map and label dictionary\n",
    "# for a human friendly representations of the nodes.\n",
    "            \n",
    "        for nodes in variable_nodes:\n",
    "            for my_node in nodes:\n",
    "                variable_nodes2.append(my_node)\n",
    "                node_list.append(my_node)\n",
    "                \n",
    "        for nodes in placeholder_nodes:\n",
    "            for my_node in nodes:\n",
    "                placeholder_nodes2.append(my_node)\n",
    "                node_list.append(my_node)\n",
    "        \n",
    "        for nodes in operation_nodes:\n",
    "            operation_nodes2.append(nodes)\n",
    "            node_list.append(nodes)\n",
    "        \n",
    "        i = 0\n",
    "        for my_node in placeholder_nodes2[:-1]:\n",
    "            edge_list.append([variable_nodes2[i],my_node])\n",
    "            i = i + 1\n",
    "        \n",
    "        for my_node in operation_nodes2:\n",
    "            for inputs in my_node.inputs:\n",
    "                edge_list.append([inputs,my_node])\n",
    "        \n",
    "        i = 0    \n",
    "        for nodes in variable_nodes2:\n",
    "            placeholder_nodes2[i].inputs = nodes\n",
    "            variable_dict[numb_stack_cont[i]] = nodes\n",
    "            label_dict[nodes] = (numb_stack_cont[i]+\"/\"+str(i))\n",
    "            i = i + 1\n",
    "            \n",
    "        edge_list.append([operation_nodes[-1],placeholder_nodes2[-1]])\n",
    "        placeholder_nodes2[-1].inputs = [operation_nodes[-1]]\n",
    "        \n",
    "        for a in range (len(edge_list)):\n",
    "            if type(edge_list[a][0]) is str:\n",
    "                index = numb_stack_cont.index(edge_list[a][0])\n",
    "                edge_list[a][0] = placeholder_nodes2[index]\n",
    "\n",
    "        for my_node in variable_nodes2:\n",
    "            color_map.append(\"yellow\")\n",
    "        \n",
    "        i = 0\n",
    "        for my_node in placeholder_nodes2:\n",
    "            color_map.append(\"red\")\n",
    "            label_dict[my_node] = (\"P\" + \"/\" +  str(i))\n",
    "            i = i + 1\n",
    "        \n",
    "        for my_node in operation_nodes2:\n",
    "            color_map.append(\"lightblue\")\n",
    "        \n",
    "        return [node_list,edge_list,color_map,label_dict,placeholder_nodes2[-1]]\n",
    "    else:\n",
    "        # this else part is used for if the string has blanks. So it basically helps to understand every string without\n",
    "        # boundaries like need of the space after every character.\n",
    "        return math_operands_split(''.join(mat_op))"
   ]
  },
  {
   "cell_type": "markdown",
   "metadata": {},
   "source": [
    "### Forward Propogation Function"
   ]
  },
  {
   "cell_type": "code",
   "execution_count": 16,
   "metadata": {},
   "outputs": [],
   "source": [
    "# Mapping the values according the input strings and data dictionary and then computing the forward propogation\n",
    "# according to the traversal list, computing the variables and assigning operation nodes to data dictionary.\n",
    "def forward_propogation(my_traversal):\n",
    "    while len(my_traversal) > 0:\n",
    "            my_node = my_traversal.pop()\n",
    "            if my_node.return_type()[0] == \"Placeholder\":\n",
    "                x = [data[number] for number in my_node.inputs]\n",
    "                my_node.change_value(x)\n",
    "                print(my_node.return_val())\n",
    "            else:\n",
    "                print(label_dict[my_node])\n",
    "                x = [data[number] for number in my_node.inputs]\n",
    "                print(x,\"mapped values\")\n",
    "                my_node.change_inp(x)\n",
    "                y = my_node.compute()\n",
    "                print(y,\"result\")\n",
    "                data[my_node] = y"
   ]
  },
  {
   "cell_type": "markdown",
   "metadata": {},
   "source": [
    "### Backward Propogation Function"
   ]
  },
  {
   "cell_type": "code",
   "execution_count": 17,
   "metadata": {},
   "outputs": [],
   "source": [
    "# In order to compute the derivative of the nodes according to it's inputs, we're using a simple approach like\n",
    "# Increasing it by 0.001 and subtracting that incremented value from the default computed one,\n",
    "# then dividing the result into 0.001. Which acting as a delay operator.\n",
    "def backward_propogation(my_traversal):\n",
    "    while len(my_traversal) > 0:\n",
    "        my_node = my_traversal.pop()\n",
    "        if my_node.return_type()[0] != 'Placeholder':\n",
    "            if my_node.return_type()[1] != \"Subtract\":\n",
    "                print(label_dict[my_node],\"my node\")\n",
    "                x = []\n",
    "                for inputs in my_node.inputs:\n",
    "                    print(data[inputs],\"inputs\")\n",
    "                    inputs_default = data[inputs]\n",
    "                    changed_input = inputs_default + 0.001\n",
    "                    x.append(changed_input)\n",
    "                i = 0\n",
    "                for number in my_node.inputs:\n",
    "                    my_node.change_inp([data[number],x[i-1]])\n",
    "                    y = my_node.compute()\n",
    "                    the_diff = y -data[my_node]\n",
    "                    print(round(the_diff/0.001),\"The Derivative\")\n",
    "                    i = i + 1\n",
    "            else:\n",
    "                print(label_dict[my_node],\"my node\")\n",
    "                x = []\n",
    "                for inputs in my_node.inputs:\n",
    "                    print(data[inputs],\"inputs\")\n",
    "                    inputs_default = data[inputs]\n",
    "                    changed_input = inputs_default + 0.001\n",
    "                    x.append(changed_input)\n",
    "                i = 0\n",
    "                for number in my_node.inputs:\n",
    "                    if i == 0:\n",
    "                        my_node.change_inp([data[number],x[i-1]])\n",
    "                        y = my_node.compute()\n",
    "                        the_diff = y - data[my_node]\n",
    "                        print(round(the_diff/0.001),\"The Derivative\")\n",
    "                        i = i + 1\n",
    "                    else:\n",
    "                        my_node.change_inp([x[i-1],data[number]])\n",
    "                        y = my_node.compute()\n",
    "                        the_diff = y - data[my_node]\n",
    "                        print(round(the_diff/0.001),\"The Derivative\")\n",
    "                        i = i + 1"
   ]
  },
  {
   "cell_type": "markdown",
   "metadata": {},
   "source": [
    "# String\n",
    "\n",
    "- You don't have to put any closing parantheses for operations to be understood, but if you want to specify the operation order, then you need them. To check you can try (e + f) and e + f as stated below. Both will give different answers."
   ]
  },
  {
   "cell_type": "code",
   "execution_count": 18,
   "metadata": {},
   "outputs": [],
   "source": [
    "# [node_list, edge_list,color_map,label_dict,reverse_start_node] = math_operands_split(\"a*(b + (c*d)) - e + f\")\n",
    "# data = {'a':5.0,'b':3.0,'c':2.0,'d':4.0,'e':5.0,'f':2.0}"
   ]
  },
  {
   "cell_type": "code",
   "execution_count": 19,
   "metadata": {},
   "outputs": [],
   "source": [
    "[node_list, edge_list,color_map,label_dict,reverse_start_node] = math_operands_split(\"a*(b + (c*d)) - (e + f)\")\n",
    "data = {'a':5.0,'b':3.0,'c':2.0,'d':4.0,'e':5.0,'f':2.0}"
   ]
  },
  {
   "cell_type": "code",
   "execution_count": 20,
   "metadata": {},
   "outputs": [],
   "source": [
    "G1 = draw_graph(node_list,edge_list,color_map,label_dict)\n",
    "G2 = draw_reverse_graph(node_list,edge_list,color_map,label_dict)"
   ]
  },
  {
   "cell_type": "markdown",
   "metadata": {},
   "source": [
    "## Graphical Representation of the Equation"
   ]
  },
  {
   "cell_type": "code",
   "execution_count": 31,
   "metadata": {},
   "outputs": [
    {
     "data": {
      "image/png": "[encoded data removed]",
      "text/plain": [
       "<Figure size 432x288 with 1 Axes>"
      ]
     },
     "metadata": {},
     "output_type": "display_data"
    }
   ],
   "source": [
    "G1.draw()"
   ]
  },
  {
   "cell_type": "markdown",
   "metadata": {},
   "source": [
    "## Graphical Representation of the Reverse Graph"
   ]
  },
  {
   "cell_type": "code",
   "execution_count": 22,
   "metadata": {},
   "outputs": [
    {
     "data": {
      "image/png": "[encoded data removed]",
      "text/plain": [
       "<Figure size 432x288 with 1 Axes>"
      ]
     },
     "metadata": {},
     "output_type": "display_data"
    }
   ],
   "source": [
    "G2.draw()"
   ]
  },
  {
   "cell_type": "markdown",
   "metadata": {},
   "source": [
    "# Forward Propogation"
   ]
  },
  {
   "cell_type": "code",
   "execution_count": 23,
   "metadata": {},
   "outputs": [],
   "source": [
    "my_traversal = []"
   ]
  },
  {
   "cell_type": "code",
   "execution_count": 24,
   "metadata": {},
   "outputs": [],
   "source": [
    "dfs = DirectedDFS(G2,node_list)\n",
    "dfs.dfs(reverse_start_node)\n",
    "none = [my_traversal.append(my_node) for my_node in dfs.return_traversal()]"
   ]
  },
  {
   "cell_type": "code",
   "execution_count": 25,
   "metadata": {},
   "outputs": [
    {
     "name": "stdout",
     "output_type": "stream",
     "text": [
      "*/0\n",
      "[4.0, 2.0] mapped values\n",
      "8.0 result\n",
      "+/1\n",
      "[8.0, 3.0] mapped values\n",
      "11.0 result\n",
      "*/3\n",
      "[5.0, 11.0] mapped values\n",
      "55.0 result\n",
      "+/2\n",
      "[2.0, 5.0] mapped values\n",
      "7.0 result\n",
      "-/4\n",
      "[7.0, 55.0] mapped values\n",
      "48.0 result\n",
      "[48.0]\n"
     ]
    }
   ],
   "source": [
    "forward_propogation(my_traversal)"
   ]
  },
  {
   "cell_type": "markdown",
   "metadata": {},
   "source": [
    "# Backward Propogation\n",
    "###### The output of the backward propogation is like:\n",
    "\n",
    "(operation) my node \n",
    "\n",
    "(value1) inputs  \n",
    "\n",
    "(value2) inputs\n",
    "\n",
    "###### And the result should follow like:\n",
    "\n",
    "(value2)'s derivative\n",
    "\n",
    "(value1)'s derivative\n"
   ]
  },
  {
   "cell_type": "code",
   "execution_count": 26,
   "metadata": {},
   "outputs": [],
   "source": [
    "none = [my_traversal.append(my_node) for my_node in dfs.return_traversal()]"
   ]
  },
  {
   "cell_type": "code",
   "execution_count": 27,
   "metadata": {},
   "outputs": [
    {
     "name": "stdout",
     "output_type": "stream",
     "text": [
      "*/0 my node\n",
      "4.0 inputs\n",
      "2.0 inputs\n",
      "4 The Derivative\n",
      "2 The Derivative\n",
      "+/1 my node\n",
      "8.0 inputs\n",
      "3.0 inputs\n",
      "1 The Derivative\n",
      "1 The Derivative\n",
      "*/3 my node\n",
      "5.0 inputs\n",
      "11.0 inputs\n",
      "5 The Derivative\n",
      "11 The Derivative\n",
      "+/2 my node\n",
      "2.0 inputs\n",
      "5.0 inputs\n",
      "1 The Derivative\n",
      "1 The Derivative\n",
      "-/4 my node\n",
      "7.0 inputs\n",
      "55.0 inputs\n",
      "1 The Derivative\n",
      "-1 The Derivative\n"
     ]
    }
   ],
   "source": [
    "backward_propogation(my_traversal)"
   ]
  }
 ],
 "metadata": {
  "kernelspec": {
   "display_name": "Python 3",
   "language": "python",
   "name": "python3"
  },
  "language_info": {
   "codemirror_mode": {
    "name": "ipython",
    "version": 3
   },
   "file_extension": ".py",
   "mimetype": "text/x-python",
   "name": "python",
   "nbconvert_exporter": "python",
   "pygments_lexer": "ipython3",
   "version": "3.6.8"
  }
 },
 "nbformat": 4,
 "nbformat_minor": 2
}
